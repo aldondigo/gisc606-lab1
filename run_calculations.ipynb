{
 "cells": [
  {
   "cell_type": "code",
   "execution_count": 1,
   "metadata": {},
   "outputs": [],
   "source": [
    "import os\n",
    "import numpy as np\n",
    "import earthpy as et"
   ]
  },
  {
   "cell_type": "code",
   "execution_count": 2,
   "metadata": {},
   "outputs": [
    {
     "data": {
      "text/plain": [
       "'/home/codespace/earth-analytics/data/earthpy-downloads/monthly-precip-2002-2013.csv'"
      ]
     },
     "execution_count": 2,
     "metadata": {},
     "output_type": "execute_result"
    }
   ],
   "source": [
    "monthly_precip_url = 'https://ndownloader.figshare.com/files/12565616'\n",
    "et.data.get_data(url=monthly_precip_url)\n",
    "\n",
    "precip_2002_2013_url = 'https://ndownloader.figshare.com/files/12707792'\n",
    "et.data.get_data(url=precip_2002_2013_url)"
   ]
  },
  {
   "cell_type": "code",
   "execution_count": 3,
   "metadata": {},
   "outputs": [],
   "source": [
    "os.chdir(os.path.join(et.io.HOME, 'earth-analytics'))"
   ]
  },
  {
   "cell_type": "code",
   "execution_count": 4,
   "metadata": {},
   "outputs": [
    {
     "name": "stdout",
     "output_type": "stream",
     "text": [
      "[0.7  0.75 1.85 2.93 3.05 2.02 1.93 1.62 1.84 1.31 1.39 0.84]\n"
     ]
    }
   ],
   "source": [
    "fname = os.path.join(\"data\", \"earthpy-downloads\", \n",
    "                     \"avg-monthly-precip.txt\")\n",
    "avg_monthly_precip = np.loadtxt(fname)\n",
    "\n",
    "print(avg_monthly_precip)"
   ]
  },
  {
   "cell_type": "code",
   "execution_count": 5,
   "metadata": {},
   "outputs": [
    {
     "name": "stdout",
     "output_type": "stream",
     "text": [
      "[[ 1.07  0.44  1.5   0.2   3.2   1.18  0.09  1.44  1.52  2.44  0.78  0.02]\n",
      " [ 0.27  1.13  1.72  4.14  2.66  0.61  1.03  1.4  18.16  2.24  0.29  0.5 ]]\n"
     ]
    }
   ],
   "source": [
    "fname = os.path.join(\"data\", \"earthpy-downloads\",\n",
    "                     \"monthly-precip-2002-2013.csv\")\n",
    "\n",
    "precip_2002_2013 = np.loadtxt(fname, delimiter = \",\")\n",
    "\n",
    "print(precip_2002_2013)"
   ]
  },
  {
   "cell_type": "code",
   "execution_count": 6,
   "metadata": {},
   "outputs": [
    {
     "data": {
      "text/plain": [
       "1"
      ]
     },
     "execution_count": 6,
     "metadata": {},
     "output_type": "execute_result"
    }
   ],
   "source": [
    "avg_monthly_precip.ndim"
   ]
  },
  {
   "cell_type": "code",
   "execution_count": 7,
   "metadata": {},
   "outputs": [
    {
     "data": {
      "text/plain": [
       "2"
      ]
     },
     "execution_count": 7,
     "metadata": {},
     "output_type": "execute_result"
    }
   ],
   "source": [
    "precip_2002_2013.ndim"
   ]
  },
  {
   "cell_type": "code",
   "execution_count": 8,
   "metadata": {},
   "outputs": [
    {
     "data": {
      "text/plain": [
       "(2, 12)"
      ]
     },
     "execution_count": 8,
     "metadata": {},
     "output_type": "execute_result"
    }
   ],
   "source": [
    "precip_2002_2013.shape"
   ]
  },
  {
   "cell_type": "code",
   "execution_count": 9,
   "metadata": {},
   "outputs": [
    {
     "data": {
      "text/plain": [
       "(12,)"
      ]
     },
     "execution_count": 9,
     "metadata": {},
     "output_type": "execute_result"
    }
   ],
   "source": [
    "avg_monthly_precip.shape"
   ]
  },
  {
   "cell_type": "code",
   "execution_count": 10,
   "metadata": {},
   "outputs": [
    {
     "name": "stdout",
     "output_type": "stream",
     "text": [
      "[0.7  0.75 1.85 2.93 3.05 2.02 1.93 1.62 1.84 1.31 1.39 0.84]\n"
     ]
    }
   ],
   "source": [
    "print(avg_monthly_precip)"
   ]
  },
  {
   "cell_type": "code",
   "execution_count": 11,
   "metadata": {},
   "outputs": [
    {
     "name": "stdout",
     "output_type": "stream",
     "text": [
      "[17.78  19.05  46.99  74.422 77.47  51.308 49.022 41.148 46.736 33.274\n",
      " 35.306 21.336]\n"
     ]
    }
   ],
   "source": [
    "avg_monthly_precip *= 25.4\n",
    "\n",
    "print(avg_monthly_precip)"
   ]
  },
  {
   "cell_type": "code",
   "execution_count": 12,
   "metadata": {},
   "outputs": [
    {
     "name": "stdout",
     "output_type": "stream",
     "text": [
      "[[ 1.07  0.44  1.5   0.2   3.2   1.18  0.09  1.44  1.52  2.44  0.78  0.02]\n",
      " [ 0.27  1.13  1.72  4.14  2.66  0.61  1.03  1.4  18.16  2.24  0.29  0.5 ]]\n"
     ]
    }
   ],
   "source": [
    "print(precip_2002_2013)"
   ]
  },
  {
   "cell_type": "code",
   "execution_count": 13,
   "metadata": {},
   "outputs": [
    {
     "name": "stdout",
     "output_type": "stream",
     "text": [
      "[[ 27.178  11.176  38.1     5.08   81.28   29.972   2.286  36.576  38.608\n",
      "   61.976  19.812   0.508]\n",
      " [  6.858  28.702  43.688 105.156  67.564  15.494  26.162  35.56  461.264\n",
      "   56.896   7.366  12.7  ]]\n"
     ]
    }
   ],
   "source": [
    "precip_2002_2013 *= 25.4\n",
    "\n",
    "print(precip_2002_2013)"
   ]
  },
  {
   "cell_type": "code",
   "execution_count": 14,
   "metadata": {},
   "outputs": [],
   "source": [
    "precip_list = [0.70, 0.75, 1.85, 2.93, 3.05, 2.02, \n",
    "              1.93, 1.62, 1.84, 1.31, 1.39, 0.84] "
   ]
  },
  {
   "cell_type": "code",
   "execution_count": 15,
   "metadata": {},
   "outputs": [
    {
     "name": "stdout",
     "output_type": "stream",
     "text": [
      "mean average monthly precipitation: 42.820166666666665\n"
     ]
    }
   ],
   "source": [
    "mean_avg_precip = np.mean(avg_monthly_precip)\n",
    "\n",
    "print(\"mean average monthly precipitation:\", mean_avg_precip)"
   ]
  },
  {
   "cell_type": "code",
   "execution_count": 16,
   "metadata": {},
   "outputs": [
    {
     "name": "stdout",
     "output_type": "stream",
     "text": [
      "median average monthly precipitation: 43.942\n"
     ]
    }
   ],
   "source": [
    "median_avg_precip = np.median(avg_monthly_precip)\n",
    "\n",
    "print(\"median average monthly precipitation:\", median_avg_precip)"
   ]
  },
  {
   "cell_type": "code",
   "execution_count": 17,
   "metadata": {},
   "outputs": [
    {
     "ename": "SyntaxError",
     "evalue": "invalid syntax. Perhaps you forgot a comma? (1246667289.py, line 2)",
     "output_type": "error",
     "traceback": [
      "\u001b[0;36m  Cell \u001b[0;32mIn[17], line 2\u001b[0;36m\u001b[0m\n\u001b[0;31m    print(\"maximum average monthly precipitation:\" np.max(avg_monthly_precip))\u001b[0m\n\u001b[0m          ^\u001b[0m\n\u001b[0;31mSyntaxError\u001b[0m\u001b[0;31m:\u001b[0m invalid syntax. Perhaps you forgot a comma?\n"
     ]
    }
   ],
   "source": [
    "print(\"minimum average monthly precipitation:\", np.min(avg_monthly_precip))\n",
    "print(\"maximum average monthly precipitation:\" np.max(avg_monthly_precip))"
   ]
  },
  {
   "cell_type": "code",
   "execution_count": 18,
   "metadata": {},
   "outputs": [
    {
     "name": "stdout",
     "output_type": "stream",
     "text": [
      "minimum average monthly precipitation: 17.779999999999998\n",
      "maximum average monthly precipitation: 77.46999999999998\n"
     ]
    }
   ],
   "source": [
    "print(\"minimum average monthly precipitation:\", np.min(avg_monthly_precip))\n",
    "print(\"maximum average monthly precipitation:\", np.max(avg_monthly_precip))"
   ]
  },
  {
   "cell_type": "code",
   "execution_count": 19,
   "metadata": {},
   "outputs": [
    {
     "name": "stdout",
     "output_type": "stream",
     "text": [
      "[[ 27.178  11.176  38.1     5.08   81.28   29.972   2.286  36.576  38.608\n",
      "   61.976  19.812   0.508]\n",
      " [  6.858  28.702  43.688 105.156  67.564  15.494  26.162  35.56  461.264\n",
      "   56.896   7.366  12.7  ]]\n"
     ]
    }
   ],
   "source": [
    "print(precip_2002_2013)"
   ]
  },
  {
   "cell_type": "code",
   "execution_count": 20,
   "metadata": {},
   "outputs": [
    {
     "name": "stdout",
     "output_type": "stream",
     "text": [
      "[ 27.178  28.702  43.688 105.156  81.28   29.972  26.162  36.576 461.264\n",
      "  61.976  19.812  12.7  ]\n"
     ]
    }
   ],
   "source": [
    "print(np.max(precip_2002_2013, axis=0))"
   ]
  },
  {
   "cell_type": "code",
   "execution_count": 21,
   "metadata": {},
   "outputs": [
    {
     "data": {
      "text/plain": [
       "numpy.ndarray"
      ]
     },
     "execution_count": 21,
     "metadata": {},
     "output_type": "execute_result"
    }
   ],
   "source": [
    "precip_2002_2013_monthly_max = np.max(precip_2002_2013, axis=0)\n",
    "\n",
    "type(precip_2002_2013_monthly_max)"
   ]
  },
  {
   "cell_type": "code",
   "execution_count": 22,
   "metadata": {},
   "outputs": [
    {
     "name": "stdout",
     "output_type": "stream",
     "text": [
      "[[ 27.178  11.176  38.1     5.08   81.28   29.972   2.286  36.576  38.608\n",
      "   61.976  19.812   0.508]\n",
      " [  6.858  28.702  43.688 105.156  67.564  15.494  26.162  35.56  461.264\n",
      "   56.896   7.366  12.7  ]]\n"
     ]
    }
   ],
   "source": [
    "print(precip_2002_2013)"
   ]
  },
  {
   "cell_type": "code",
   "execution_count": 23,
   "metadata": {},
   "outputs": [
    {
     "name": "stdout",
     "output_type": "stream",
     "text": [
      "[ 81.28  461.264]\n"
     ]
    }
   ],
   "source": [
    "print(np.max(precip_2002_2013, axis=1))"
   ]
  },
  {
   "cell_type": "code",
   "execution_count": null,
   "metadata": {},
   "outputs": [],
   "source": []
  }
 ],
 "metadata": {
  "kernelspec": {
   "display_name": "Python 3",
   "language": "python",
   "name": "python3"
  },
  "language_info": {
   "codemirror_mode": {
    "name": "ipython",
    "version": 3
   },
   "file_extension": ".py",
   "mimetype": "text/x-python",
   "name": "python",
   "nbconvert_exporter": "python",
   "pygments_lexer": "ipython3",
   "version": "3.10.13"
  }
 },
 "nbformat": 4,
 "nbformat_minor": 2
}
